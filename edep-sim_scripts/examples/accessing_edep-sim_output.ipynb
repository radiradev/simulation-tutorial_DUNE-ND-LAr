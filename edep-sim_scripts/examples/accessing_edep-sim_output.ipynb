{
 "cells": [
  {
   "cell_type": "code",
   "execution_count": null,
   "id": "0d5ec000",
   "metadata": {},
   "outputs": [],
   "source": [
    "import h5py\n",
    "import numpy as np\n",
    "import matplotlib.pyplot as plt\n",
    "from mpl_toolkits import mplot3d\n",
    "%matplotlib notebook"
   ]
  },
  {
   "cell_type": "code",
   "execution_count": null,
   "id": "85bce20b",
   "metadata": {},
   "outputs": [],
   "source": [
    "f = h5py.File('edep-sim_test.h5','r')"
   ]
  },
  {
   "cell_type": "code",
   "execution_count": null,
   "id": "ef2a8995",
   "metadata": {},
   "outputs": [],
   "source": [
    "my_func = lambda name,dset : print(name) if isinstance(dset, h5py.Dataset) else None\n",
    "f.visititems(my_func) # see which datasets are available"
   ]
  },
  {
   "cell_type": "code",
   "execution_count": null,
   "id": "1971c807",
   "metadata": {},
   "outputs": [],
   "source": [
    "# load edep-sim h5 file\n",
    "f = h5py.File('edep-sim_file.h5','r')"
   ]
  },
  {
   "cell_type": "code",
   "execution_count": null,
   "id": "49ff2de5",
   "metadata": {},
   "outputs": [],
   "source": [
    "# print names of all variables available in a dataset\n",
    "print(f['segments'].dtype.names)\n",
    "print(\" \")\n",
    "print(f['trajectories'].dtype.names)"
   ]
  },
  {
   "cell_type": "code",
   "execution_count": null,
   "id": "9b6637aa",
   "metadata": {},
   "outputs": [],
   "source": [
    "# selecting single event\n",
    "evtID = 0\n",
    "event = f['segments'][f['segments']['eventID'] == evtID]"
   ]
  },
  {
   "cell_type": "code",
   "execution_count": null,
   "id": "083c3414",
   "metadata": {},
   "outputs": [],
   "source": [
    "# select main track (no secondaries)\n",
    "tracknum = 0\n",
    "event = f['segments'][f['segments']['trackID'] == tracknum]"
   ]
  },
  {
   "cell_type": "code",
   "execution_count": null,
   "id": "7b7ea856",
   "metadata": {},
   "outputs": [],
   "source": [
    "# select single event and main track\n",
    "evtID = 0\n",
    "tracknum = 0\n",
    "event = f['segments'][f['segments']['eventID'] == evtID]\n",
    "event_track = event[event['trackID'] == tracknum]"
   ]
  },
  {
   "cell_type": "markdown",
   "id": "3c452dbe",
   "metadata": {},
   "source": [
    "You can sort through a dataset like segments to find the data you want. \n",
    "As a first example, you could find all the zeroth segments of the events and\n",
    "put them into an array. Here I use a list comprehension, but you could turn it into\n",
    "a normal for loop."
   ]
  },
  {
   "cell_type": "code",
   "execution_count": null,
   "id": "95616e5f",
   "metadata": {},
   "outputs": [],
   "source": [
    "events = f['segments']\n",
    "evt_tot = max(f['segments']['eventID'])+1\n",
    "segs0 = np.array([ events[events['eventID'] == i][0] for i in range(evt_tot) ])"
   ]
  },
  {
   "cell_type": "code",
   "execution_count": 1,
   "id": "e20a3f93",
   "metadata": {},
   "outputs": [
    {
     "data": {
      "text/plain": [
       "[0, 1, 2, 3, 4]"
      ]
     },
     "execution_count": 1,
     "metadata": {},
     "output_type": "execute_result"
    }
   ],
   "source": [
    "# here's an example of a simple list comprehension if you're not familiar\n",
    "[i for i in range(5)]"
   ]
  },
  {
   "cell_type": "markdown",
   "id": "b6d2a1e4",
   "metadata": {},
   "source": [
    "You might want to do a loop through the data if there isn't a way to use numpy array slicing to find what you want (or if you're me, you just can't think of how to do it).\n",
    "This, however, can get very slow sometimes. There may be quicker ways to do things like this but I'm not personally too familiar.\n",
    "\n",
    "I have, however, noticed a way around making such searches slow. Recall that dumpTree.py is already looping through the edep-sim ROOT tree data to make the h5 file. So what you can do is make a modified version of dumpTree.py that keeps track of what you want. It may take some scratching your head to understand how dumpTree.py works, but you only need a modest amount of understanding of it. You can even create your own datasets like segments and trajectories. I've found that this is immensely faster than looping through the datasets in python. Another possible alternative is to loop through the data with a faster language like C++."
   ]
  },
  {
   "cell_type": "markdown",
   "id": "a12c46b9",
   "metadata": {},
   "source": [
    "Here's an example of plotting edep-sim segments, event by event."
   ]
  },
  {
   "cell_type": "code",
   "execution_count": 2,
   "id": "1166d02b",
   "metadata": {},
   "outputs": [],
   "source": [
    "def plotEvent(evNum):\n",
    "    # function for plotting the segments of a single event\n",
    "    # INPUT: eventID number\n",
    "    # OUTPUT: Nothing just plots.\n",
    "    \n",
    "    boolArr = f['segments']['eventID'] == evNum\n",
    "    event = f['segments'][boolArr]\n",
    "    #len(event)\n",
    "\n",
    "    x_start = event['x_start']\n",
    "    x_end = event['x_end']\n",
    "    y_start = event['y_start']\n",
    "    y_end = event['y_end']\n",
    "    z_start = event['z_start']\n",
    "    z_end = event['z_end']\n",
    "\n",
    "    x_mid = (x_start+x_end)/2\n",
    "    y_mid = (y_start+y_end)/2\n",
    "    z_mid = (z_start+z_end)/2\n",
    "\n",
    "    segmentlengths = np.sqrt((x_start - x_end)**2 + (y_start - y_end)**2 + (z_start - z_end)**2)\n",
    "    print('Total track length = ', sum(segmentlengths) * 10, ' mm')\n",
    "\n",
    "    for i in range(len(event)):\n",
    "        if event['pdgId'][i] == 11 and event['trackID'][i] == 0:\n",
    "            plt.plot([x_start[i],x_end[i]],[z_start[i],z_end[i]], [y_start[i], y_end[i]], 'b-')\n",
    "        elif event['pdgId'][i] == 11 and event['trackID'][i] != 0:\n",
    "            print('Here!')\n",
    "            plt.plot([x_start[i],x_end[i]],[z_start[i],z_end[i]], [y_start[i], y_end[i]], 'r-')\n",
    "        elif event['pdgId'][i] == 22 and event['trackID'][i] != 0:\n",
    "            print('Here2!')\n",
    "            plt.plot([x_start[i],x_end[i]],[z_start[i],z_end[i]], [y_start[i], y_end[i]], 'g-')\n",
    "            #if i < 5:\n",
    "            #    plt.plot([x_start[i],x_end[i]],[z_start[i],z_end[i]], [y_start[i], y_end[i]], 'g-')\n",
    "            #elif i >= 5:\n",
    "            #    plt.plot([x_start[i],x_end[i]],[z_start[i],z_end[i]], [y_start[i], y_end[i]], 'b-')\n",
    "        #if event['pdgId'][i] != 11:\n",
    "        #    plt.plot([x_start[i],x_end[i]],[z_start[i],z_end[i]], [y_start[i], y_end[i]], 'r-')\n"
   ]
  },
  {
   "cell_type": "code",
   "execution_count": null,
   "id": "1729cc7e",
   "metadata": {},
   "outputs": [],
   "source": [
    "# create figure. I only tested this plotting with %matplotlib notebook, where it is continuously updated\n",
    "# with segments. So I'm not sure if it works as is with out that.\n",
    "fig = plt.figure()\n",
    "ax = fig.add_subplot(projection='3d')\n",
    "\n",
    "ax.set_xlabel('x [cm]')\n",
    "ax.set_ylabel('z [cm]')\n",
    "ax.set_zlabel('y [cm]')\n",
    "\n",
    "## settings to use for module 0 if you want to show the whole detector. Otherwise the figure expands to\n",
    "## the size of the tracks you plot\n",
    "\n",
    "#ax.set_xlim(-30,30)\n",
    "#ax.set_ylim(-30,30)\n",
    "#ax.set_zlim(-80, 40)\n",
    "#ax.set_box_aspect([1,1,2])"
   ]
  },
  {
   "cell_type": "code",
   "execution_count": null,
   "id": "9b8fd854",
   "metadata": {},
   "outputs": [],
   "source": [
    "eventtoplot = 0\n",
    "plotEvent(eventtoplot)"
   ]
  }
 ],
 "metadata": {
  "kernelspec": {
   "display_name": "Python 3 (ipykernel)",
   "language": "python",
   "name": "python3"
  },
  "language_info": {
   "codemirror_mode": {
    "name": "ipython",
    "version": 3
   },
   "file_extension": ".py",
   "mimetype": "text/x-python",
   "name": "python",
   "nbconvert_exporter": "python",
   "pygments_lexer": "ipython3",
   "version": "3.8.10"
  }
 },
 "nbformat": 4,
 "nbformat_minor": 5
}
