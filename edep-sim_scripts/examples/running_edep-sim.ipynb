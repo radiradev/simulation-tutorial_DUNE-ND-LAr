{
 "cells": [
  {
   "cell_type": "markdown",
   "id": "1bc60d2c",
   "metadata": {},
   "source": [
    "# Running edep-sim "
   ]
  },
  {
   "cell_type": "markdown",
   "id": "c73c4596",
   "metadata": {},
   "source": [
    "This notebook shows you how to run edep-sim within a Jupyter notebook, if you're interested."
   ]
  },
  {
   "cell_type": "code",
   "execution_count": null,
   "id": "dc1a991c",
   "metadata": {},
   "outputs": [],
   "source": [
    "import h5py\n",
    "import numpy as np\n",
    "import matplotlib.pyplot as plt\n",
    "%matplotlib notebook"
   ]
  },
  {
   "cell_type": "markdown",
   "id": "fa4bc316",
   "metadata": {},
   "source": [
    "Here you can write your macro, if you'd like to make quick changes to it."
   ]
  },
  {
   "cell_type": "code",
   "execution_count": null,
   "id": "b32cdc7f",
   "metadata": {},
   "outputs": [],
   "source": [
    "f = open(\"testmacro.mac\",\"w+\")\n",
    "f.write('/edep/gdml/read Module0.gdml\\n')\n",
    "f.write('/edep/db/open edepsim_test.root\\n')\n",
    "\n",
    "## these control segment size\n",
    "#f.write('/edep/hitLength TPCActive_shape 0.001 mm\\n')\n",
    "#f.write('/process/eLoss/StepFunction 0.001 0.01 mm\\n')\n",
    "\n",
    "f.write('/edep/update\\n') # need this after the edep-sim commands above\n",
    "\n",
    "# a few productions cuts. NOT an exhaustive list of options\n",
    "#f.write('/run/setCut 1000 mm\\n')\n",
    "#f.write('/run/setCutForAGivenParticle gamma 50000 mm\\n')\n",
    "\n",
    "# gps specific commands for defining the particle source. You will likely need to change this significantly\n",
    "# by default I have the volume set for module0\n",
    "f.write(\"/gps/pos/type Volume\\n\"+\"/gps/pos/shape Para\\n\"+ \"/gps/pos/centre 0.0 -22 0.0 cm\\n\"+ \"/gps/pos/halfx 30.2723 cm\\n\"+ \"/gps/pos/halfy 62.0543 cm\\n\"+\"/gps/pos/halfz 31.0163 cm\\n\" +\"/gps/ang/type iso\\n\")\n",
    "f.write(\"/gps/particle e-\\n\")\n",
    "f.write(\"/gps/energy 0.565 MeV\")\n",
    "\n",
    "f.close()"
   ]
  },
  {
   "cell_type": "markdown",
   "id": "6c5c1dc2",
   "metadata": {},
   "source": [
    "Now you can run edep-sim and dumpTree.py within the notebook too. Note that you need to make sure the output file to dumpTree.py doesn't exist when running dumpTree.py, so here I just make sure it is deleted if it exists."
   ]
  },
  {
   "cell_type": "code",
   "execution_count": null,
   "id": "19bdf5a2",
   "metadata": {},
   "outputs": [],
   "source": [
    "%%bash\n",
    "rm -f edepsim_test.h5\n",
    "edep-sim -e 100 -p QGSP_BERT testmacro.mac"
   ]
  },
  {
   "cell_type": "code",
   "execution_count": null,
   "id": "01a7245a",
   "metadata": {},
   "outputs": [],
   "source": [
    "%run dumpTree_mod.py edepsim_test.root edepsim_test.h5"
   ]
  },
  {
   "cell_type": "code",
   "execution_count": null,
   "id": "4395c1fb",
   "metadata": {},
   "outputs": [],
   "source": []
  }
 ],
 "metadata": {
  "kernelspec": {
   "display_name": "Python 3 (ipykernel)",
   "language": "python",
   "name": "python3"
  },
  "language_info": {
   "codemirror_mode": {
    "name": "ipython",
    "version": 3
   },
   "file_extension": ".py",
   "mimetype": "text/x-python",
   "name": "python",
   "nbconvert_exporter": "python",
   "pygments_lexer": "ipython3",
   "version": "3.8.10"
  }
 },
 "nbformat": 4,
 "nbformat_minor": 5
}
