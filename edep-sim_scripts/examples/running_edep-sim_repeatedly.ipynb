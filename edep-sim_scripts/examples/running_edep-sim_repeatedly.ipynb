{
 "cells": [
  {
   "cell_type": "markdown",
   "id": "ee1a7f58",
   "metadata": {},
   "source": [
    "# Running edep-sim repeatedly"
   ]
  },
  {
   "cell_type": "markdown",
   "id": "bd982e49",
   "metadata": {},
   "source": [
    "This notebook shows you how to run edep-sim repeatly by allowing you to call a function that runs edep-sim. I found it useful to be able to do this instead of having to manually run edep-sim several times. So this allowed me to run edep-sim for several individual energies, particles, production cuts, etc very easily. So you might find this useful."
   ]
  },
  {
   "cell_type": "code",
   "execution_count": null,
   "id": "5afe3191",
   "metadata": {},
   "outputs": [],
   "source": [
    "import h5py\n",
    "import numpy as np\n",
    "import matplotlib.pyplot as plt\n",
    "import subprocess\n",
    "#%matplotlib notebook"
   ]
  },
  {
   "cell_type": "markdown",
   "id": "2b0d271c",
   "metadata": {},
   "source": [
    "Here is a function to run edep-sim and dumpTree.py. You will likely need to modify this to match your filepaths and, of course, your simulation goals. You can play around with it here or copy it somewhere else."
   ]
  },
  {
   "cell_type": "code",
   "execution_count": null,
   "id": "e91e1ba1",
   "metadata": {},
   "outputs": [],
   "source": [
    "def run_edepsim(x):\n",
    "    # you can use \"x\" or other input parameters to change these macro commands as you wish\n",
    "    f = open(\"testmacro.mac\",\"w+\")\n",
    "    f.write('/edep/gdml/read Module0.gdml\\n')\n",
    "    f.write('/edep/db/open edepsim_test.root\\n')\n",
    "    #f.write('/edep/hitLength TPCActive_shape 0.001 mm\\n')\n",
    "    #f.write('/process/eLoss/StepFunction 0.001 0.01 mm\\n')\n",
    "    f.write('/edep/update\\n')\n",
    "    #f.write('/run/setCut 1000 mm\\n')\n",
    "    #f.write('/run/setCutForAGivenParticle gamma 50000 mm\\n')\n",
    "    f.write(\"/gps/pos/type Volume\\n\"+\"/gps/pos/shape Para\\n\"+ \"/gps/pos/centre 0.0 -22 0.0 cm\\n\"+ \"/gps/pos/halfx 30.2723 cm\\n\"+ \"/gps/pos/halfy 62.0543 cm\\n\"+\"/gps/pos/halfz 31.0163 cm\\n\" +\"/gps/ang/type iso\\n\")\n",
    "    f.write(\"/gps/particle e-\\n\")\n",
    "    f.write(\"/gps/energy 0.565 MeV\")\n",
    "\n",
    "    f.close()\n",
    "    \n",
    "    bashCmd = [\"edep-sim\", \"-e\" ,\"5000\", \"-p\", \"QGSP_BERT_LIV\" ,\"hitlengthTest.mac\"]\n",
    "    process = subprocess.Popen(bashCmd, stdout=subprocess.PIPE)\n",
    "    output, error = process.communicate()\n",
    "    #print(output)\n",
    "    #print(\"errors: \", error)\n",
    "    \n",
    "    bashCmd = [\"rm\", \"-f\", \"edepsim_test.h5\"]\n",
    "    process = subprocess.Popen(bashCmd, stdout=subprocess.PIPE)\n",
    "    output, error = process.communicate()\n",
    "\n",
    "    %run dumpTree_mod.py edepsim_test.root edepsim_test.h5\n",
    "    \n",
    "    f = h5py.File('edepsim_test.h5','r')\n",
    "    numEvts = max(f['segments']['eventID'])"
   ]
  },
  {
   "cell_type": "code",
   "execution_count": null,
   "id": "9603b43d",
   "metadata": {},
   "outputs": [],
   "source": []
  },
  {
   "cell_type": "code",
   "execution_count": null,
   "id": "3a706860",
   "metadata": {},
   "outputs": [],
   "source": []
  },
  {
   "cell_type": "code",
   "execution_count": null,
   "id": "ba8975c3",
   "metadata": {},
   "outputs": [],
   "source": []
  },
  {
   "cell_type": "code",
   "execution_count": null,
   "id": "e8312c7b",
   "metadata": {},
   "outputs": [],
   "source": []
  }
 ],
 "metadata": {
  "kernelspec": {
   "display_name": "Python 3 (ipykernel)",
   "language": "python",
   "name": "python3"
  },
  "language_info": {
   "codemirror_mode": {
    "name": "ipython",
    "version": 3
   },
   "file_extension": ".py",
   "mimetype": "text/x-python",
   "name": "python",
   "nbconvert_exporter": "python",
   "pygments_lexer": "ipython3",
   "version": "3.8.10"
  }
 },
 "nbformat": 4,
 "nbformat_minor": 5
}
